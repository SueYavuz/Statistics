{
 "cells": [
  {
   "cell_type": "markdown",
   "metadata": {
    "id": "Kqhaon5X2lmL"
   },
   "source": [
    "#STATS LAB RICHARD INSTRUCTOR"
   ]
  },
  {
   "cell_type": "markdown",
   "metadata": {
    "id": "PqzgZ05eO6OA"
   },
   "source": [
    "# One Sample Z Test"
   ]
  },
  {
   "cell_type": "markdown",
   "metadata": {
    "id": "mJH02eQn2lmS"
   },
   "source": [
    "Performed when the population means and standard deviation are known."
   ]
  },
  {
   "cell_type": "markdown",
   "metadata": {
    "id": "SCxyfVJ72lmS"
   },
   "source": [
    "## Example-1"
   ]
  },
  {
   "cell_type": "markdown",
   "metadata": {
    "id": "5c00Iz_K2lmT"
   },
   "source": [
    "- Suppose that a beach is safe to swim if the mean level of lead in the water is 10.0 (μ0) parts/million.  \n",
    "- We assume Xi ~ N(μ, σ = 1.5)\n",
    "- Water safety is going to be determined by taking 40 water samples and using the test statistic. \n",
    "- Sample mean = 10.5\n",
    "- α = 0.05"
   ]
  },
  {
   "cell_type": "code",
   "execution_count": 1,
   "metadata": {
    "id": "fiWDbiDD2lmT"
   },
   "outputs": [],
   "source": [
    "import scipy.stats as stats\n",
    "from math import sqrt"
   ]
  },
  {
   "cell_type": "code",
   "execution_count": 2,
   "metadata": {
    "id": "5UU9HfZi2lmU"
   },
   "outputs": [],
   "source": [
    "x_bar = 10.5 # sample mean \n",
    "n = 40 # number of samples\n",
    "sigma = 1.5 # sd of population\n",
    "mu = 10 # Population mean "
   ]
  },
  {
   "cell_type": "markdown",
   "metadata": {
    "id": "l62qBl7N2lmU"
   },
   "source": [
    "Calculate the test statistic"
   ]
  },
  {
   "cell_type": "code",
   "execution_count": null,
   "metadata": {
    "colab": {
     "base_uri": "https://localhost:8080/"
    },
    "executionInfo": {
     "elapsed": 416,
     "status": "ok",
     "timestamp": 1656700332731,
     "user": {
      "displayName": "Richard Thames",
      "userId": "00258987493291873022"
     },
     "user_tz": -180
    },
    "id": "nE_oBxpC2lmU",
    "outputId": "ccb4ec05-cd26-40de-f190-5cd5bbf49745"
   },
   "outputs": [
    {
     "data": {
      "text/plain": [
       "2.1081851067789197"
      ]
     },
     "execution_count": 3,
     "metadata": {},
     "output_type": "execute_result"
    }
   ],
   "source": [
    "z = (x_bar - mu)/(sigma/sqrt(n))\n",
    "z"
   ]
  },
  {
   "cell_type": "markdown",
   "metadata": {
    "id": "WepdGOFB2lmV"
   },
   "source": [
    "Calculate the p-value"
   ]
  },
  {
   "cell_type": "code",
   "execution_count": null,
   "metadata": {
    "colab": {
     "base_uri": "https://localhost:8080/"
    },
    "executionInfo": {
     "elapsed": 296,
     "status": "ok",
     "timestamp": 1656700334324,
     "user": {
      "displayName": "Richard Thames",
      "userId": "00258987493291873022"
     },
     "user_tz": -180
    },
    "id": "fLEuq-_n2lmV",
    "outputId": "ddc9a9b3-e128-4014-ecb1-a9f5a1d78f3c"
   },
   "outputs": [
    {
     "data": {
      "text/plain": [
       "0.017864420562816563"
      ]
     },
     "execution_count": 4,
     "metadata": {},
     "output_type": "execute_result"
    }
   ],
   "source": [
    "p_value = 1- stats.norm.cdf(2.1)\n",
    "p_value"
   ]
  },
  {
   "cell_type": "code",
   "execution_count": null,
   "metadata": {
    "colab": {
     "base_uri": "https://localhost:8080/"
    },
    "executionInfo": {
     "elapsed": 294,
     "status": "ok",
     "timestamp": 1656700340572,
     "user": {
      "displayName": "Richard Thames",
      "userId": "00258987493291873022"
     },
     "user_tz": -180
    },
    "id": "VoFW6ujX2lmW",
    "outputId": "93aa2cd3-479d-4b06-a7be-d5466acaea9d"
   },
   "outputs": [
    {
     "name": "stdout",
     "output_type": "stream",
     "text": [
      "At 0.05 level of significance, we can reject the null hypothesis in favor of alternative hypothesis.\n"
     ]
    }
   ],
   "source": [
    "alpha = 0.05\n",
    "\n",
    "if p_value<alpha:\n",
    "    print('At {} level of significance, we can reject the null hypothesis in favor of alternative hypothesis.'.format(alpha))\n",
    "else:\n",
    "    print('At {} level of significance, we fail to reject the null hypothesis.'.format(alpha))"
   ]
  },
  {
   "cell_type": "markdown",
   "metadata": {
    "id": "xHkk92Mv2lmY"
   },
   "source": [
    "# One Sample t Test"
   ]
  },
  {
   "cell_type": "markdown",
   "metadata": {
    "id": "vNwGgsvX2lmY"
   },
   "source": [
    "## Example-1"
   ]
  },
  {
   "cell_type": "markdown",
   "metadata": {
    "id": "OFdulawW2lmY"
   },
   "source": [
    "- Bon Air ELEM has 1000 students. The principal of the school thinks that the average IQ of students at Bon Air is at least 110. To prove her point, she administers an IQ test to 20 randomly selected students. \n",
    "- Among the sampled students, the average IQ is 108 with a standard deviation of 10. \n",
    "- Based on these results, should the principal accept or reject her original hypothesis? α = 0.01"
   ]
  },
  {
   "cell_type": "code",
   "execution_count": 11,
   "metadata": {
    "id": "3e8xedXl2lmZ"
   },
   "outputs": [],
   "source": [
    "x_bar = 108 # sample mean \n",
    "n = 20 # number of students\n",
    "s = 10 # sd of sample\n",
    "mu = 110 # Population mean \n",
    "alpha = 0.01"
   ]
  },
  {
   "cell_type": "markdown",
   "metadata": {
    "id": "QDnyEEXW2lmZ"
   },
   "source": [
    "Calculate the test statistic"
   ]
  },
  {
   "cell_type": "code",
   "execution_count": 12,
   "metadata": {
    "colab": {
     "base_uri": "https://localhost:8080/"
    },
    "executionInfo": {
     "elapsed": 300,
     "status": "ok",
     "timestamp": 1656700382918,
     "user": {
      "displayName": "Richard Thames",
      "userId": "00258987493291873022"
     },
     "user_tz": -180
    },
    "id": "WFK3Khm42lmZ",
    "outputId": "bb7a8464-811c-4fc4-f6f0-0966c8ffa4c9"
   },
   "outputs": [
    {
     "data": {
      "text/plain": [
       "-0.8944271909999159"
      ]
     },
     "execution_count": 12,
     "metadata": {},
     "output_type": "execute_result"
    }
   ],
   "source": [
    "t = (x_bar - mu)/(s/sqrt(n))\n",
    "t"
   ]
  },
  {
   "cell_type": "code",
   "execution_count": 13,
   "metadata": {
    "colab": {
     "base_uri": "https://localhost:8080/"
    },
    "executionInfo": {
     "elapsed": 3,
     "status": "ok",
     "timestamp": 1656700384897,
     "user": {
      "displayName": "Richard Thames",
      "userId": "00258987493291873022"
     },
     "user_tz": -180
    },
    "id": "dIrAWEV22lmZ",
    "outputId": "12b16439-6a06-4279-f5b8-ea70bd992e94"
   },
   "outputs": [
    {
     "data": {
      "text/plain": [
       "0.1911420676837155"
      ]
     },
     "execution_count": 13,
     "metadata": {},
     "output_type": "execute_result"
    }
   ],
   "source": [
    "p_value = stats.t.cdf(t, n-1)\n",
    "p_value"
   ]
  },
  {
   "cell_type": "code",
   "execution_count": 14,
   "metadata": {
    "colab": {
     "base_uri": "https://localhost:8080/"
    },
    "executionInfo": {
     "elapsed": 296,
     "status": "ok",
     "timestamp": 1656700387257,
     "user": {
      "displayName": "Richard Thames",
      "userId": "00258987493291873022"
     },
     "user_tz": -180
    },
    "id": "1pp13RAr2lmZ",
    "outputId": "735a024b-3d18-479d-c3e5-49babe29de82"
   },
   "outputs": [
    {
     "name": "stdout",
     "output_type": "stream",
     "text": [
      "At 0.01 level of significance, we fail to reject the null hypothesis.\n"
     ]
    }
   ],
   "source": [
    "if p_value<alpha:\n",
    "    print('At {} level of significance, we can reject the null hypothesis in favor of alternative hypothesis.'.format(alpha))\n",
    "else:\n",
    "    print('At {} level of significance, we fail to reject the null hypothesis.'.format(alpha))"
   ]
  },
  {
   "cell_type": "markdown",
   "metadata": {
    "id": "EmUB_dcx2lma"
   },
   "source": [
    "### scipy.stats"
   ]
  },
  {
   "cell_type": "code",
   "execution_count": 15,
   "metadata": {
    "colab": {
     "base_uri": "https://localhost:8080/"
    },
    "executionInfo": {
     "elapsed": 4531,
     "status": "ok",
     "timestamp": 1656700681998,
     "user": {
      "displayName": "Richard Thames",
      "userId": "00258987493291873022"
     },
     "user_tz": -180
    },
    "id": "dNvZLfEqPORx",
    "outputId": "c1b99a9d-7f88-457f-c5b6-2e488f8bfa4f"
   },
   "outputs": [
    {
     "name": "stdout",
     "output_type": "stream",
     "text": [
      "Requirement already satisfied: statsmodels in /Users/sueyavuz/opt/anaconda3/lib/python3.9/site-packages (0.12.2)\n",
      "Requirement already satisfied: numpy>=1.15 in /Users/sueyavuz/opt/anaconda3/lib/python3.9/site-packages (from statsmodels) (1.20.3)\n",
      "Requirement already satisfied: pandas>=0.21 in /Users/sueyavuz/opt/anaconda3/lib/python3.9/site-packages (from statsmodels) (1.3.4)\n",
      "Requirement already satisfied: scipy>=1.1 in /Users/sueyavuz/opt/anaconda3/lib/python3.9/site-packages (from statsmodels) (1.7.1)\n",
      "Requirement already satisfied: patsy>=0.5 in /Users/sueyavuz/opt/anaconda3/lib/python3.9/site-packages (from statsmodels) (0.5.2)\n",
      "Requirement already satisfied: python-dateutil>=2.7.3 in /Users/sueyavuz/opt/anaconda3/lib/python3.9/site-packages (from pandas>=0.21->statsmodels) (2.8.2)\n",
      "Requirement already satisfied: pytz>=2017.3 in /Users/sueyavuz/opt/anaconda3/lib/python3.9/site-packages (from pandas>=0.21->statsmodels) (2021.3)\n",
      "Requirement already satisfied: six in /Users/sueyavuz/opt/anaconda3/lib/python3.9/site-packages (from patsy>=0.5->statsmodels) (1.16.0)\n",
      "Note: you may need to restart the kernel to use updated packages.\n"
     ]
    }
   ],
   "source": [
    "pip install statsmodels"
   ]
  },
  {
   "cell_type": "code",
   "execution_count": 16,
   "metadata": {
    "colab": {
     "base_uri": "https://localhost:8080/"
    },
    "executionInfo": {
     "elapsed": 1374,
     "status": "ok",
     "timestamp": 1656700683366,
     "user": {
      "displayName": "Richard Thames",
      "userId": "00258987493291873022"
     },
     "user_tz": -180
    },
    "id": "KRBN2Sutovir",
    "outputId": "99200f6c-a9a2-4f71-c171-b31c34714051"
   },
   "outputs": [],
   "source": [
    "import statsmodels.api as sm"
   ]
  },
  {
   "cell_type": "code",
   "execution_count": 18,
   "metadata": {
    "colab": {
     "base_uri": "https://localhost:8080/"
    },
    "executionInfo": {
     "elapsed": 1036,
     "status": "ok",
     "timestamp": 1656700685053,
     "user": {
      "displayName": "Richard Thames",
      "userId": "00258987493291873022"
     },
     "user_tz": -180
    },
    "id": "ptTC05Qk2lmd",
    "outputId": "a23b4ddc-555a-4d22-84eb-380f662fe85a"
   },
   "outputs": [
    {
     "data": {
      "text/plain": [
       "dict_keys(['data', '__doc__', 'package', 'title', 'from_cache'])"
      ]
     },
     "execution_count": 18,
     "metadata": {},
     "output_type": "execute_result"
    }
   ],
   "source": [
    "df = sm.datasets.get_rdataset(dataname = \"Pima.tr\", package = \"MASS\")\n",
    "df.keys()"
   ]
  },
  {
   "cell_type": "code",
   "execution_count": 19,
   "metadata": {
    "colab": {
     "base_uri": "https://localhost:8080/"
    },
    "executionInfo": {
     "elapsed": 297,
     "status": "ok",
     "timestamp": 1656700692452,
     "user": {
      "displayName": "Richard Thames",
      "userId": "00258987493291873022"
     },
     "user_tz": -180
    },
    "id": "ALyWGhsyzanJ",
    "outputId": "9d408c56-9383-48bd-f5c2-fd51fc3134cb"
   },
   "outputs": [
    {
     "name": "stdout",
     "output_type": "stream",
     "text": [
      ".. container::\n",
      "\n",
      "   ======= ===============\n",
      "   Pima.tr R Documentation\n",
      "   ======= ===============\n",
      "\n",
      "   .. rubric:: Diabetes in Pima Indian Women\n",
      "      :name: diabetes-in-pima-indian-women\n",
      "\n",
      "   .. rubric:: Description\n",
      "      :name: description\n",
      "\n",
      "   A population of women who were at least 21 years old, of Pima Indian\n",
      "   heritage and living near Phoenix, Arizona, was tested for diabetes\n",
      "   according to World Health Organization criteria. The data were\n",
      "   collected by the US National Institute of Diabetes and Digestive and\n",
      "   Kidney Diseases. We used the 532 complete records after dropping the\n",
      "   (mainly missing) data on serum insulin.\n",
      "\n",
      "   .. rubric:: Usage\n",
      "      :name: usage\n",
      "\n",
      "   ::\n",
      "\n",
      "      Pima.tr\n",
      "      Pima.tr2\n",
      "      Pima.te\n",
      "\n",
      "   .. rubric:: Format\n",
      "      :name: format\n",
      "\n",
      "   These data frames contains the following columns:\n",
      "\n",
      "   ``npreg``\n",
      "      number of pregnancies.\n",
      "\n",
      "   ``glu``\n",
      "      plasma glucose concentration in an oral glucose tolerance test.\n",
      "\n",
      "   ``bp``\n",
      "      diastolic blood pressure (mm Hg).\n",
      "\n",
      "   ``skin``\n",
      "      triceps skin fold thickness (mm).\n",
      "\n",
      "   ``bmi``\n",
      "      body mass index (weight in kg/(height in m)\\ *\\\\^2*).\n",
      "\n",
      "   ``ped``\n",
      "      diabetes pedigree function.\n",
      "\n",
      "   ``age``\n",
      "      age in years.\n",
      "\n",
      "   ``type``\n",
      "      ``Yes`` or ``No``, for diabetic according to WHO criteria.\n",
      "\n",
      "   .. rubric:: Details\n",
      "      :name: details\n",
      "\n",
      "   The training set ``Pima.tr`` contains a randomly selected set of 200\n",
      "   subjects, and ``Pima.te`` contains the remaining 332 subjects.\n",
      "   ``Pima.tr2`` contains ``Pima.tr`` plus 100 subjects with missing\n",
      "   values in the explanatory variables.\n",
      "\n",
      "   .. rubric:: Source\n",
      "      :name: source\n",
      "\n",
      "   Smith, J. W., Everhart, J. E., Dickson, W. C., Knowler, W. C. and\n",
      "   Johannes, R. S. (1988) Using the ADAP learning algorithm to forecast\n",
      "   the onset of *diabetes mellitus*. In *Proceedings of the Symposium on\n",
      "   Computer Applications in Medical Care (Washington, 1988),* ed. R. A.\n",
      "   Greenes, pp. 261–265. Los Alamitos, CA: IEEE Computer Society Press.\n",
      "\n",
      "   Ripley, B.D. (1996) *Pattern Recognition and Neural Networks.*\n",
      "   Cambridge: Cambridge University Press.\n",
      "\n"
     ]
    }
   ],
   "source": [
    "print(df.__doc__)"
   ]
  },
  {
   "cell_type": "code",
   "execution_count": 20,
   "metadata": {
    "colab": {
     "base_uri": "https://localhost:8080/",
     "height": 424
    },
    "executionInfo": {
     "elapsed": 301,
     "status": "ok",
     "timestamp": 1656700697340,
     "user": {
      "displayName": "Richard Thames",
      "userId": "00258987493291873022"
     },
     "user_tz": -180
    },
    "id": "4XOYBjpM2lmd",
    "outputId": "6ab5b305-83d2-45e2-b8a9-a59dcf3e1dea"
   },
   "outputs": [
    {
     "data": {
      "text/html": [
       "<div>\n",
       "<style scoped>\n",
       "    .dataframe tbody tr th:only-of-type {\n",
       "        vertical-align: middle;\n",
       "    }\n",
       "\n",
       "    .dataframe tbody tr th {\n",
       "        vertical-align: top;\n",
       "    }\n",
       "\n",
       "    .dataframe thead th {\n",
       "        text-align: right;\n",
       "    }\n",
       "</style>\n",
       "<table border=\"1\" class=\"dataframe\">\n",
       "  <thead>\n",
       "    <tr style=\"text-align: right;\">\n",
       "      <th></th>\n",
       "      <th>npreg</th>\n",
       "      <th>glu</th>\n",
       "      <th>bp</th>\n",
       "      <th>skin</th>\n",
       "      <th>bmi</th>\n",
       "      <th>ped</th>\n",
       "      <th>age</th>\n",
       "      <th>type</th>\n",
       "    </tr>\n",
       "  </thead>\n",
       "  <tbody>\n",
       "    <tr>\n",
       "      <th>0</th>\n",
       "      <td>5</td>\n",
       "      <td>86</td>\n",
       "      <td>68</td>\n",
       "      <td>28</td>\n",
       "      <td>30.2</td>\n",
       "      <td>0.364</td>\n",
       "      <td>24</td>\n",
       "      <td>No</td>\n",
       "    </tr>\n",
       "    <tr>\n",
       "      <th>1</th>\n",
       "      <td>7</td>\n",
       "      <td>195</td>\n",
       "      <td>70</td>\n",
       "      <td>33</td>\n",
       "      <td>25.1</td>\n",
       "      <td>0.163</td>\n",
       "      <td>55</td>\n",
       "      <td>Yes</td>\n",
       "    </tr>\n",
       "    <tr>\n",
       "      <th>2</th>\n",
       "      <td>5</td>\n",
       "      <td>77</td>\n",
       "      <td>82</td>\n",
       "      <td>41</td>\n",
       "      <td>35.8</td>\n",
       "      <td>0.156</td>\n",
       "      <td>35</td>\n",
       "      <td>No</td>\n",
       "    </tr>\n",
       "    <tr>\n",
       "      <th>3</th>\n",
       "      <td>0</td>\n",
       "      <td>165</td>\n",
       "      <td>76</td>\n",
       "      <td>43</td>\n",
       "      <td>47.9</td>\n",
       "      <td>0.259</td>\n",
       "      <td>26</td>\n",
       "      <td>No</td>\n",
       "    </tr>\n",
       "    <tr>\n",
       "      <th>4</th>\n",
       "      <td>0</td>\n",
       "      <td>107</td>\n",
       "      <td>60</td>\n",
       "      <td>25</td>\n",
       "      <td>26.4</td>\n",
       "      <td>0.133</td>\n",
       "      <td>23</td>\n",
       "      <td>No</td>\n",
       "    </tr>\n",
       "    <tr>\n",
       "      <th>...</th>\n",
       "      <td>...</td>\n",
       "      <td>...</td>\n",
       "      <td>...</td>\n",
       "      <td>...</td>\n",
       "      <td>...</td>\n",
       "      <td>...</td>\n",
       "      <td>...</td>\n",
       "      <td>...</td>\n",
       "    </tr>\n",
       "    <tr>\n",
       "      <th>195</th>\n",
       "      <td>2</td>\n",
       "      <td>141</td>\n",
       "      <td>58</td>\n",
       "      <td>34</td>\n",
       "      <td>25.4</td>\n",
       "      <td>0.699</td>\n",
       "      <td>24</td>\n",
       "      <td>No</td>\n",
       "    </tr>\n",
       "    <tr>\n",
       "      <th>196</th>\n",
       "      <td>7</td>\n",
       "      <td>129</td>\n",
       "      <td>68</td>\n",
       "      <td>49</td>\n",
       "      <td>38.5</td>\n",
       "      <td>0.439</td>\n",
       "      <td>43</td>\n",
       "      <td>Yes</td>\n",
       "    </tr>\n",
       "    <tr>\n",
       "      <th>197</th>\n",
       "      <td>0</td>\n",
       "      <td>106</td>\n",
       "      <td>70</td>\n",
       "      <td>37</td>\n",
       "      <td>39.4</td>\n",
       "      <td>0.605</td>\n",
       "      <td>22</td>\n",
       "      <td>No</td>\n",
       "    </tr>\n",
       "    <tr>\n",
       "      <th>198</th>\n",
       "      <td>1</td>\n",
       "      <td>118</td>\n",
       "      <td>58</td>\n",
       "      <td>36</td>\n",
       "      <td>33.3</td>\n",
       "      <td>0.261</td>\n",
       "      <td>23</td>\n",
       "      <td>No</td>\n",
       "    </tr>\n",
       "    <tr>\n",
       "      <th>199</th>\n",
       "      <td>8</td>\n",
       "      <td>155</td>\n",
       "      <td>62</td>\n",
       "      <td>26</td>\n",
       "      <td>34.0</td>\n",
       "      <td>0.543</td>\n",
       "      <td>46</td>\n",
       "      <td>Yes</td>\n",
       "    </tr>\n",
       "  </tbody>\n",
       "</table>\n",
       "<p>200 rows × 8 columns</p>\n",
       "</div>"
      ],
      "text/plain": [
       "     npreg  glu  bp  skin   bmi    ped  age type\n",
       "0        5   86  68    28  30.2  0.364   24   No\n",
       "1        7  195  70    33  25.1  0.163   55  Yes\n",
       "2        5   77  82    41  35.8  0.156   35   No\n",
       "3        0  165  76    43  47.9  0.259   26   No\n",
       "4        0  107  60    25  26.4  0.133   23   No\n",
       "..     ...  ...  ..   ...   ...    ...  ...  ...\n",
       "195      2  141  58    34  25.4  0.699   24   No\n",
       "196      7  129  68    49  38.5  0.439   43  Yes\n",
       "197      0  106  70    37  39.4  0.605   22   No\n",
       "198      1  118  58    36  33.3  0.261   23   No\n",
       "199      8  155  62    26  34.0  0.543   46  Yes\n",
       "\n",
       "[200 rows x 8 columns]"
      ]
     },
     "execution_count": 20,
     "metadata": {},
     "output_type": "execute_result"
    }
   ],
   "source": [
    "df.data"
   ]
  },
  {
   "cell_type": "code",
   "execution_count": 22,
   "metadata": {
    "id": "SYKw1Pfj2lmd"
   },
   "outputs": [],
   "source": [
    "df = df.data"
   ]
  },
  {
   "cell_type": "code",
   "execution_count": 23,
   "metadata": {
    "colab": {
     "base_uri": "https://localhost:8080/",
     "height": 206
    },
    "executionInfo": {
     "elapsed": 5,
     "status": "ok",
     "timestamp": 1656700715660,
     "user": {
      "displayName": "Richard Thames",
      "userId": "00258987493291873022"
     },
     "user_tz": -180
    },
    "id": "6vi-x7Xy2lme",
    "outputId": "2f225d40-c009-47c5-fb01-501ab4fffb2b"
   },
   "outputs": [
    {
     "data": {
      "text/html": [
       "<div>\n",
       "<style scoped>\n",
       "    .dataframe tbody tr th:only-of-type {\n",
       "        vertical-align: middle;\n",
       "    }\n",
       "\n",
       "    .dataframe tbody tr th {\n",
       "        vertical-align: top;\n",
       "    }\n",
       "\n",
       "    .dataframe thead th {\n",
       "        text-align: right;\n",
       "    }\n",
       "</style>\n",
       "<table border=\"1\" class=\"dataframe\">\n",
       "  <thead>\n",
       "    <tr style=\"text-align: right;\">\n",
       "      <th></th>\n",
       "      <th>npreg</th>\n",
       "      <th>glu</th>\n",
       "      <th>bp</th>\n",
       "      <th>skin</th>\n",
       "      <th>bmi</th>\n",
       "      <th>ped</th>\n",
       "      <th>age</th>\n",
       "      <th>type</th>\n",
       "    </tr>\n",
       "  </thead>\n",
       "  <tbody>\n",
       "    <tr>\n",
       "      <th>0</th>\n",
       "      <td>5</td>\n",
       "      <td>86</td>\n",
       "      <td>68</td>\n",
       "      <td>28</td>\n",
       "      <td>30.2</td>\n",
       "      <td>0.364</td>\n",
       "      <td>24</td>\n",
       "      <td>No</td>\n",
       "    </tr>\n",
       "    <tr>\n",
       "      <th>1</th>\n",
       "      <td>7</td>\n",
       "      <td>195</td>\n",
       "      <td>70</td>\n",
       "      <td>33</td>\n",
       "      <td>25.1</td>\n",
       "      <td>0.163</td>\n",
       "      <td>55</td>\n",
       "      <td>Yes</td>\n",
       "    </tr>\n",
       "    <tr>\n",
       "      <th>2</th>\n",
       "      <td>5</td>\n",
       "      <td>77</td>\n",
       "      <td>82</td>\n",
       "      <td>41</td>\n",
       "      <td>35.8</td>\n",
       "      <td>0.156</td>\n",
       "      <td>35</td>\n",
       "      <td>No</td>\n",
       "    </tr>\n",
       "    <tr>\n",
       "      <th>3</th>\n",
       "      <td>0</td>\n",
       "      <td>165</td>\n",
       "      <td>76</td>\n",
       "      <td>43</td>\n",
       "      <td>47.9</td>\n",
       "      <td>0.259</td>\n",
       "      <td>26</td>\n",
       "      <td>No</td>\n",
       "    </tr>\n",
       "    <tr>\n",
       "      <th>4</th>\n",
       "      <td>0</td>\n",
       "      <td>107</td>\n",
       "      <td>60</td>\n",
       "      <td>25</td>\n",
       "      <td>26.4</td>\n",
       "      <td>0.133</td>\n",
       "      <td>23</td>\n",
       "      <td>No</td>\n",
       "    </tr>\n",
       "  </tbody>\n",
       "</table>\n",
       "</div>"
      ],
      "text/plain": [
       "   npreg  glu  bp  skin   bmi    ped  age type\n",
       "0      5   86  68    28  30.2  0.364   24   No\n",
       "1      7  195  70    33  25.1  0.163   55  Yes\n",
       "2      5   77  82    41  35.8  0.156   35   No\n",
       "3      0  165  76    43  47.9  0.259   26   No\n",
       "4      0  107  60    25  26.4  0.133   23   No"
      ]
     },
     "execution_count": 23,
     "metadata": {},
     "output_type": "execute_result"
    }
   ],
   "source": [
    "df.head()"
   ]
  },
  {
   "cell_type": "code",
   "execution_count": null,
   "metadata": {
    "colab": {
     "base_uri": "https://localhost:8080/"
    },
    "executionInfo": {
     "elapsed": 295,
     "status": "ok",
     "timestamp": 1656700719533,
     "user": {
      "displayName": "Richard Thames",
      "userId": "00258987493291873022"
     },
     "user_tz": -180
    },
    "id": "FL2pS3wK2lme",
    "outputId": "21805eaf-af82-4187-ba5b-6c67053e36e4"
   },
   "outputs": [
    {
     "name": "stdout",
     "output_type": "stream",
     "text": [
      "<class 'pandas.core.frame.DataFrame'>\n",
      "RangeIndex: 200 entries, 0 to 199\n",
      "Data columns (total 8 columns):\n",
      " #   Column  Non-Null Count  Dtype  \n",
      "---  ------  --------------  -----  \n",
      " 0   npreg   200 non-null    int64  \n",
      " 1   glu     200 non-null    int64  \n",
      " 2   bp      200 non-null    int64  \n",
      " 3   skin    200 non-null    int64  \n",
      " 4   bmi     200 non-null    float64\n",
      " 5   ped     200 non-null    float64\n",
      " 6   age     200 non-null    int64  \n",
      " 7   type    200 non-null    object \n",
      "dtypes: float64(2), int64(5), object(1)\n",
      "memory usage: 12.6+ KB\n"
     ]
    }
   ],
   "source": [
    "df.info()"
   ]
  },
  {
   "cell_type": "code",
   "execution_count": 24,
   "metadata": {
    "colab": {
     "base_uri": "https://localhost:8080/",
     "height": 300
    },
    "executionInfo": {
     "elapsed": 6,
     "status": "ok",
     "timestamp": 1656700722429,
     "user": {
      "displayName": "Richard Thames",
      "userId": "00258987493291873022"
     },
     "user_tz": -180
    },
    "id": "hpuXURx2pkyB",
    "outputId": "f333ad18-f50f-442f-bdd5-0947bccf1798"
   },
   "outputs": [
    {
     "data": {
      "text/html": [
       "<div>\n",
       "<style scoped>\n",
       "    .dataframe tbody tr th:only-of-type {\n",
       "        vertical-align: middle;\n",
       "    }\n",
       "\n",
       "    .dataframe tbody tr th {\n",
       "        vertical-align: top;\n",
       "    }\n",
       "\n",
       "    .dataframe thead th {\n",
       "        text-align: right;\n",
       "    }\n",
       "</style>\n",
       "<table border=\"1\" class=\"dataframe\">\n",
       "  <thead>\n",
       "    <tr style=\"text-align: right;\">\n",
       "      <th></th>\n",
       "      <th>npreg</th>\n",
       "      <th>glu</th>\n",
       "      <th>bp</th>\n",
       "      <th>skin</th>\n",
       "      <th>bmi</th>\n",
       "      <th>ped</th>\n",
       "      <th>age</th>\n",
       "    </tr>\n",
       "  </thead>\n",
       "  <tbody>\n",
       "    <tr>\n",
       "      <th>count</th>\n",
       "      <td>200.000000</td>\n",
       "      <td>200.000000</td>\n",
       "      <td>200.000000</td>\n",
       "      <td>200.000000</td>\n",
       "      <td>200.000000</td>\n",
       "      <td>200.000000</td>\n",
       "      <td>200.000000</td>\n",
       "    </tr>\n",
       "    <tr>\n",
       "      <th>mean</th>\n",
       "      <td>3.570000</td>\n",
       "      <td>123.970000</td>\n",
       "      <td>71.260000</td>\n",
       "      <td>29.215000</td>\n",
       "      <td>32.310000</td>\n",
       "      <td>0.460765</td>\n",
       "      <td>32.110000</td>\n",
       "    </tr>\n",
       "    <tr>\n",
       "      <th>std</th>\n",
       "      <td>3.366268</td>\n",
       "      <td>31.667225</td>\n",
       "      <td>11.479604</td>\n",
       "      <td>11.724594</td>\n",
       "      <td>6.130212</td>\n",
       "      <td>0.307225</td>\n",
       "      <td>10.975436</td>\n",
       "    </tr>\n",
       "    <tr>\n",
       "      <th>min</th>\n",
       "      <td>0.000000</td>\n",
       "      <td>56.000000</td>\n",
       "      <td>38.000000</td>\n",
       "      <td>7.000000</td>\n",
       "      <td>18.200000</td>\n",
       "      <td>0.085000</td>\n",
       "      <td>21.000000</td>\n",
       "    </tr>\n",
       "    <tr>\n",
       "      <th>25%</th>\n",
       "      <td>1.000000</td>\n",
       "      <td>100.000000</td>\n",
       "      <td>64.000000</td>\n",
       "      <td>20.750000</td>\n",
       "      <td>27.575000</td>\n",
       "      <td>0.253500</td>\n",
       "      <td>23.000000</td>\n",
       "    </tr>\n",
       "    <tr>\n",
       "      <th>50%</th>\n",
       "      <td>2.000000</td>\n",
       "      <td>120.500000</td>\n",
       "      <td>70.000000</td>\n",
       "      <td>29.000000</td>\n",
       "      <td>32.800000</td>\n",
       "      <td>0.372500</td>\n",
       "      <td>28.000000</td>\n",
       "    </tr>\n",
       "    <tr>\n",
       "      <th>75%</th>\n",
       "      <td>6.000000</td>\n",
       "      <td>144.000000</td>\n",
       "      <td>78.000000</td>\n",
       "      <td>36.000000</td>\n",
       "      <td>36.500000</td>\n",
       "      <td>0.616000</td>\n",
       "      <td>39.250000</td>\n",
       "    </tr>\n",
       "    <tr>\n",
       "      <th>max</th>\n",
       "      <td>14.000000</td>\n",
       "      <td>199.000000</td>\n",
       "      <td>110.000000</td>\n",
       "      <td>99.000000</td>\n",
       "      <td>47.900000</td>\n",
       "      <td>2.288000</td>\n",
       "      <td>63.000000</td>\n",
       "    </tr>\n",
       "  </tbody>\n",
       "</table>\n",
       "</div>"
      ],
      "text/plain": [
       "            npreg         glu          bp        skin         bmi         ped  \\\n",
       "count  200.000000  200.000000  200.000000  200.000000  200.000000  200.000000   \n",
       "mean     3.570000  123.970000   71.260000   29.215000   32.310000    0.460765   \n",
       "std      3.366268   31.667225   11.479604   11.724594    6.130212    0.307225   \n",
       "min      0.000000   56.000000   38.000000    7.000000   18.200000    0.085000   \n",
       "25%      1.000000  100.000000   64.000000   20.750000   27.575000    0.253500   \n",
       "50%      2.000000  120.500000   70.000000   29.000000   32.800000    0.372500   \n",
       "75%      6.000000  144.000000   78.000000   36.000000   36.500000    0.616000   \n",
       "max     14.000000  199.000000  110.000000   99.000000   47.900000    2.288000   \n",
       "\n",
       "              age  \n",
       "count  200.000000  \n",
       "mean    32.110000  \n",
       "std     10.975436  \n",
       "min     21.000000  \n",
       "25%     23.000000  \n",
       "50%     28.000000  \n",
       "75%     39.250000  \n",
       "max     63.000000  "
      ]
     },
     "execution_count": 24,
     "metadata": {},
     "output_type": "execute_result"
    }
   ],
   "source": [
    "df.describe()"
   ]
  },
  {
   "cell_type": "code",
   "execution_count": null,
   "metadata": {
    "id": "v5ZNrdCipfQR"
   },
   "outputs": [],
   "source": [
    "# suppose we hypothesize that the population mean of bmi among Pima Indian women is above 30.\n",
    "# Because we found sample mean as x_bar = 32.3"
   ]
  },
  {
   "cell_type": "code",
   "execution_count": null,
   "metadata": {
    "id": "UzADeHMr2lme"
   },
   "outputs": [],
   "source": [
    "# bmi mean:\n",
    "# Ho: mu = 30\n",
    "# Ha: mu >30"
   ]
  },
  {
   "cell_type": "code",
   "execution_count": 25,
   "metadata": {
    "colab": {
     "base_uri": "https://localhost:8080/"
    },
    "executionInfo": {
     "elapsed": 3,
     "status": "ok",
     "timestamp": 1656700781634,
     "user": {
      "displayName": "Richard Thames",
      "userId": "00258987493291873022"
     },
     "user_tz": -180
    },
    "id": "5A5ERaKV05V5",
    "outputId": "37672ad3-018c-4c02-c52d-c1952e69d2fe"
   },
   "outputs": [
    {
     "data": {
      "text/plain": [
       "32.30999999999998"
      ]
     },
     "execution_count": 25,
     "metadata": {},
     "output_type": "execute_result"
    }
   ],
   "source": [
    "df.bmi.mean()"
   ]
  },
  {
   "cell_type": "code",
   "execution_count": null,
   "metadata": {
    "id": "nMEr9EjNqPNZ"
   },
   "outputs": [],
   "source": [
    "# sample size = 200\n",
    "# sample std = 6.13\n",
    "# sample mean = 32.3"
   ]
  },
  {
   "cell_type": "code",
   "execution_count": null,
   "metadata": {
    "colab": {
     "base_uri": "https://localhost:8080/"
    },
    "executionInfo": {
     "elapsed": 278,
     "status": "ok",
     "timestamp": 1656700793250,
     "user": {
      "displayName": "Richard Thames",
      "userId": "00258987493291873022"
     },
     "user_tz": -180
    },
    "id": "7RSwAYnJ1EtA",
    "outputId": "609982dd-2441-4db5-d923-de91aabe46ce"
   },
   "outputs": [
    {
     "data": {
      "text/plain": [
       "Ttest_1sampResult(statistic=5.329070841262502, pvalue=2.6614410307455736e-07)"
      ]
     },
     "execution_count": 22,
     "metadata": {},
     "output_type": "execute_result"
    }
   ],
   "source": [
    "onesample = stats.ttest_1samp (df[\"bmi\"], 30)\n",
    "onesample"
   ]
  },
  {
   "cell_type": "code",
   "execution_count": null,
   "metadata": {
    "id": "BajL1_hdbOhy"
   },
   "outputs": [],
   "source": [
    "#help(stats.ttest_1samp)"
   ]
  },
  {
   "cell_type": "code",
   "execution_count": null,
   "metadata": {
    "colab": {
     "base_uri": "https://localhost:8080/"
    },
    "executionInfo": {
     "elapsed": 303,
     "status": "ok",
     "timestamp": 1656700799646,
     "user": {
      "displayName": "Richard Thames",
      "userId": "00258987493291873022"
     },
     "user_tz": -180
    },
    "id": "D7L_RW2Y_LDr",
    "outputId": "2190614b-0058-4347-cb12-5e8cf4a9d07a"
   },
   "outputs": [
    {
     "data": {
      "text/plain": [
       "1.3307205153727868e-07"
      ]
     },
     "execution_count": 24,
     "metadata": {},
     "output_type": "execute_result"
    }
   ],
   "source": [
    "onesample.pvalue/2        #because it is a two sided test we should divide the p_value by 2 at the and if we are seeking one side test."
   ]
  },
  {
   "cell_type": "code",
   "execution_count": null,
   "metadata": {
    "id": "t-TXHH1wEBt9"
   },
   "outputs": [],
   "source": [
    "# reject Ho in favor of Ha. Because p value is too small"
   ]
  }
 ],
 "metadata": {
  "colab": {
   "collapsed_sections": [],
   "name": "Stats_lab_2.ipynb",
   "provenance": [
    {
     "file_id": "1WkrGCoJV6zUcHgc560ZuesFbKuXT6_YH",
     "timestamp": 1644864723517
    },
    {
     "file_id": "1d2RZk4O4_0VzRxhKJcHCgVqwbCXLP4Zc",
     "timestamp": 1619099564054
    }
   ]
  },
  "kernelspec": {
   "display_name": "Python 3 (ipykernel)",
   "language": "python",
   "name": "python3"
  },
  "language_info": {
   "codemirror_mode": {
    "name": "ipython",
    "version": 3
   },
   "file_extension": ".py",
   "mimetype": "text/x-python",
   "name": "python",
   "nbconvert_exporter": "python",
   "pygments_lexer": "ipython3",
   "version": "3.9.7"
  },
  "toc": {
   "base_numbering": 1,
   "nav_menu": {},
   "number_sections": true,
   "sideBar": true,
   "skip_h1_title": false,
   "title_cell": "Table of Contents",
   "title_sidebar": "Contents",
   "toc_cell": false,
   "toc_position": {},
   "toc_section_display": true,
   "toc_window_display": false
  }
 },
 "nbformat": 4,
 "nbformat_minor": 1
}
