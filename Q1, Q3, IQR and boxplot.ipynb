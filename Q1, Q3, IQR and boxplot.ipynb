{
 "cells": [
  {
   "cell_type": "code",
   "execution_count": 1,
   "id": "5227fa04",
   "metadata": {},
   "outputs": [],
   "source": [
    "import numpy as np"
   ]
  },
  {
   "cell_type": "code",
   "execution_count": 2,
   "id": "50f33a41",
   "metadata": {},
   "outputs": [],
   "source": [
    "from scipy import stats"
   ]
  },
  {
   "cell_type": "code",
   "execution_count": 3,
   "id": "ae4a9edb",
   "metadata": {},
   "outputs": [],
   "source": [
    "data = [32, 36, 46, 47, 56, 69, 75, 79, 80, 88, 89]"
   ]
  },
  {
   "cell_type": "code",
   "execution_count": 5,
   "id": "26111fc5",
   "metadata": {},
   "outputs": [
    {
     "name": "stdout",
     "output_type": "stream",
     "text": [
      "Q1:  46.5\n"
     ]
    }
   ],
   "source": [
    "Q1 = np.percentile(data,25)\n",
    "print(\"Q1: \", Q1)"
   ]
  },
  {
   "cell_type": "code",
   "execution_count": 6,
   "id": "52f61dd8",
   "metadata": {},
   "outputs": [
    {
     "name": "stdout",
     "output_type": "stream",
     "text": [
      "Q3:  79.5\n"
     ]
    }
   ],
   "source": [
    "Q3 = np.percentile(data,75)\n",
    "print(\"Q3: \", Q3)"
   ]
  },
  {
   "cell_type": "code",
   "execution_count": 7,
   "id": "ae91c7a4",
   "metadata": {},
   "outputs": [
    {
     "data": {
      "text/plain": [
       "{'whiskers': [<matplotlib.lines.Line2D at 0x7f9a2a4fb670>,\n",
       "  <matplotlib.lines.Line2D at 0x7f9a2a4fb940>],\n",
       " 'caps': [<matplotlib.lines.Line2D at 0x7f9a2a4fbcd0>,\n",
       "  <matplotlib.lines.Line2D at 0x7f9a2a50a0a0>],\n",
       " 'boxes': [<matplotlib.lines.Line2D at 0x7f9a2a4fb220>],\n",
       " 'medians': [<matplotlib.lines.Line2D at 0x7f9a2a50a430>],\n",
       " 'fliers': [<matplotlib.lines.Line2D at 0x7f9a2a50a7c0>],\n",
       " 'means': []}"
      ]
     },
     "execution_count": 7,
     "metadata": {},
     "output_type": "execute_result"
    },
    {
     "data": {
      "image/png": "[encoded data removed]",
      "text/plain": [
       "<Figure size 432x288 with 1 Axes>"
      ]
     },
     "metadata": {
      "needs_background": "light"
     },
     "output_type": "display_data"
    }
   ],
   "source": [
    "import matplotlib.pyplot as plt\n",
    "plt.boxplot(data)"
   ]
  },
  {
   "cell_type": "code",
   "execution_count": 8,
   "id": "85d0443e",
   "metadata": {},
   "outputs": [
    {
     "data": {
      "text/plain": [
       "33.0"
      ]
     },
     "execution_count": 8,
     "metadata": {},
     "output_type": "execute_result"
    }
   ],
   "source": [
    "IQR = Q3- Q1\n",
    "IQR"
   ]
  },
  {
   "cell_type": "code",
   "execution_count": 9,
   "id": "218d57ec",
   "metadata": {},
   "outputs": [],
   "source": [
    "from scipy.stats import iqr"
   ]
  },
  {
   "cell_type": "code",
   "execution_count": 10,
   "id": "f2551d4f",
   "metadata": {},
   "outputs": [
    {
     "data": {
      "text/plain": [
       "33.0"
      ]
     },
     "execution_count": 10,
     "metadata": {},
     "output_type": "execute_result"
    }
   ],
   "source": [
    "iqr(data)"
   ]
  },
  {
   "cell_type": "code",
   "execution_count": 11,
   "id": "735e3c76",
   "metadata": {},
   "outputs": [],
   "source": [
    "q75 , q25 = np.percentile(data, [75,25])"
   ]
  },
  {
   "cell_type": "code",
   "execution_count": 12,
   "id": "16855e9a",
   "metadata": {},
   "outputs": [
    {
     "data": {
      "text/plain": [
       "79.5"
      ]
     },
     "execution_count": 12,
     "metadata": {},
     "output_type": "execute_result"
    }
   ],
   "source": [
    "q75"
   ]
  },
  {
   "cell_type": "code",
   "execution_count": 13,
   "id": "66a523a4",
   "metadata": {},
   "outputs": [
    {
     "data": {
      "text/plain": [
       "46.5"
      ]
     },
     "execution_count": 13,
     "metadata": {},
     "output_type": "execute_result"
    }
   ],
   "source": [
    "q25"
   ]
  },
  {
   "cell_type": "code",
   "execution_count": 14,
   "id": "38a36d6f",
   "metadata": {},
   "outputs": [
    {
     "data": {
      "text/plain": [
       "391.68595041322317"
      ]
     },
     "execution_count": 14,
     "metadata": {},
     "output_type": "execute_result"
    }
   ],
   "source": [
    "np.var(data)"
   ]
  },
  {
   "cell_type": "code",
   "execution_count": 15,
   "id": "47c88557",
   "metadata": {},
   "outputs": [
    {
     "data": {
      "text/plain": [
       "19.791057334392804"
      ]
     },
     "execution_count": 15,
     "metadata": {},
     "output_type": "execute_result"
    }
   ],
   "source": [
    "np.std(data)"
   ]
  },
  {
   "cell_type": "code",
   "execution_count": null,
   "id": "eed87844",
   "metadata": {},
   "outputs": [],
   "source": []
  }
 ],
 "metadata": {
  "kernelspec": {
   "display_name": "Python 3 (ipykernel)",
   "language": "python",
   "name": "python3"
  },
  "language_info": {
   "codemirror_mode": {
    "name": "ipython",
    "version": 3
   },
   "file_extension": ".py",
   "mimetype": "text/x-python",
   "name": "python",
   "nbconvert_exporter": "python",
   "pygments_lexer": "ipython3",
   "version": "3.9.7"
  }
 },
 "nbformat": 4,
 "nbformat_minor": 5
}
