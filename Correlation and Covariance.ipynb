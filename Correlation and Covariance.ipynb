{
 "cells": [
  {
   "cell_type": "code",
   "execution_count": 1,
   "id": "f6cadd23",
   "metadata": {},
   "outputs": [
    {
     "name": "stdout",
     "output_type": "stream",
     "text": [
      "covariance:  [[102.56666667  24.        ]\n",
      " [ 24.           6.8       ]]\n",
      "correlation:  [[1.         0.90876934]\n",
      " [0.90876934 1.        ]]\n"
     ]
    }
   ],
   "source": [
    "#with numpy library\n",
    "import numpy as np\n",
    "\n",
    "temp=[93,84,82,78,98,70]\n",
    "\n",
    "number_of_people=[13,10, 11, 8, 15, 9]\n",
    "\n",
    "print(\"covariance: \", np.cov(temp, number_of_people))\n",
    "\n",
    "print(\"correlation: \", np.corrcoef(temp, number_of_people))"
   ]
  },
  {
   "cell_type": "code",
   "execution_count": 2,
   "id": "4c7201b7",
   "metadata": {},
   "outputs": [
    {
     "name": "stdout",
     "output_type": "stream",
     "text": [
      "correlation coefficient and p-value:  (0.9087693361896165, 0.012104893069677013)\n"
     ]
    }
   ],
   "source": [
    "#with scipy library\n",
    "from scipy import stats\n",
    "\n",
    "print(\"correlation coefficient and p-value: \", stats.pearsonr(temp, number_of_people))"
   ]
  },
  {
   "cell_type": "code",
   "execution_count": null,
   "id": "4a8c313b",
   "metadata": {},
   "outputs": [],
   "source": []
  }
 ],
 "metadata": {
  "kernelspec": {
   "display_name": "Python 3 (ipykernel)",
   "language": "python",
   "name": "python3"
  },
  "language_info": {
   "codemirror_mode": {
    "name": "ipython",
    "version": 3
   },
   "file_extension": ".py",
   "mimetype": "text/x-python",
   "name": "python",
   "nbconvert_exporter": "python",
   "pygments_lexer": "ipython3",
   "version": "3.9.7"
  }
 },
 "nbformat": 4,
 "nbformat_minor": 5
}
