{
 "cells": [
  {
   "cell_type": "markdown",
   "id": "6c554421",
   "metadata": {},
   "source": [
    "t Distribution"
   ]
  },
  {
   "cell_type": "markdown",
   "id": "be8fbccd",
   "metadata": {},
   "source": [
    "💡t Dağıtımı\n",
    "* t, z'den daha fazla yayılmış. Normalden daha \"düz\". Bunun nedeni, s kullanımının daha fazla belirsizliğe yol açarak t'yi z'den daha \"eğik\" hale getirmesidir.\n",
    "* Yayılma miktarı örnek boyutuna bağlıdır. Örnek boyutu ne kadar büyük olursa, s'nin σ'ya yakın olduğundan o kadar emin olabiliriz ve t, z'ye ne kadar yakınsa, normaldir.\n",
    "* Serbestlik dereceleri (dof veya df): Verilen n adet veri için, x̄'yi hesaplarken bir \"serbestlik derecesi\" kullanırsınız ve n-1 bağımsız bilgi parçası bırakırsınız."
   ]
  },
  {
   "cell_type": "markdown",
   "id": "01fd8648",
   "metadata": {},
   "source": [
    "* Serbestlik derecesi (n-1) arttıkça, t-dağılımı standart normal dağılıma (z-dağılımı) yaklaşacaktır ."
   ]
  },
  {
   "cell_type": "code",
   "execution_count": 4,
   "id": "cd84b450",
   "metadata": {},
   "outputs": [],
   "source": [
    "import numpy as np\n",
    "import matplotlib.pyplot as plt\n",
    "import scipy as stats"
   ]
  },
  {
   "cell_type": "code",
   "execution_count": null,
   "id": "de806661",
   "metadata": {},
   "outputs": [],
   "source": [
    "plt.figure(figsize=(8,6))\n",
    "xs = np.linspace(-5,5,1000)\n",
    "\n",
    "plt.plot(xs, stats.t.pdf(xs, 1), \"b\", label=\"t (df=1)\")\n",
    "plt.plot(xs, stats.t.pdf(xs, 3), \"g\", label=\"t (df=3)\")\n",
    "plt.plot(xs, stats.t.pdf(xs, 8), \"c\", label=\"t (df=8)\")\n",
    "plt.plot(xs, stats.t.pdf(xs, 15), \"m\", label=\"t (df=15)\")\n",
    "plt.plot(xs, stats.norm.pdf(xs), \"k\", label=\"Normal\")\n",
    "plt.legend()\n",
    "plt.show();"
   ]
  },
  {
   "cell_type": "code",
   "execution_count": 1,
   "id": "70bfd835",
   "metadata": {},
   "outputs": [
    {
     "name": "stdout",
     "output_type": "stream",
     "text": [
      "[51 92 14 71 60 20 82 86 74 74 87 99 23  2 21 52  1 87 29 37  1 63 59 20\n",
      " 32 75 57 21 88 48 90 58 41 91 59 79 14 61 61 46]\n"
     ]
    }
   ],
   "source": [
    "import numpy as np\n",
    "from scipy import stats\n",
    "np.random.seed(42)\n",
    "grades = np.random.randint(100, size = 40)\n",
    "print(grades)"
   ]
  },
  {
   "cell_type": "code",
   "execution_count": 2,
   "id": "eef9477a",
   "metadata": {},
   "outputs": [
    {
     "name": "stdout",
     "output_type": "stream",
     "text": [
      "53.15\n"
     ]
    }
   ],
   "source": [
    "#Calculate the sample mean:\n",
    "xbar = np.mean(grades)\n",
    "print(xbar)"
   ]
  },
  {
   "cell_type": "code",
   "execution_count": 3,
   "id": "4083f821",
   "metadata": {},
   "outputs": [
    {
     "name": "stdout",
     "output_type": "stream",
     "text": [
      "4.427188724235731\n"
     ]
    }
   ],
   "source": [
    "#Calculate standart error of the mean:\n",
    "n = len(grades)            #sample size\n",
    "sigma = 28                 #population standard deviation (from past experiences)\n",
    "sem = sigma / np.sqrt(n)   #standard error of the mean\n",
    "print(sem)"
   ]
  },
  {
   "cell_type": "code",
   "execution_count": 4,
   "id": "97f33183",
   "metadata": {},
   "outputs": [
    {
     "data": {
      "text/plain": [
       "(44.47286954773614, 61.82713045226386)"
      ]
     },
     "execution_count": 4,
     "metadata": {},
     "output_type": "execute_result"
    }
   ],
   "source": [
    "#Calculate 95% Confidence Interval around the mean by using scipy.stats:\n",
    "stats.norm.interval(alpha=0.95, loc=xbar, scale=sem)"
   ]
  },
  {
   "cell_type": "markdown",
   "id": "cf494b93",
   "metadata": {},
   "source": [
    "Population Variance Unknown (using t-score)"
   ]
  },
  {
   "cell_type": "code",
   "execution_count": 5,
   "id": "550ab90a",
   "metadata": {},
   "outputs": [
    {
     "name": "stdout",
     "output_type": "stream",
     "text": [
      "[95 11 81 70 63 87 75  9 77 40  4 63 40 60 92 64  5 12 93 40]\n"
     ]
    }
   ],
   "source": [
    "np.random.seed(101)\n",
    "grades = np.random.randint(100, size = 20)\n",
    "print(grades)"
   ]
  },
  {
   "cell_type": "code",
   "execution_count": 6,
   "id": "52a9ac0a",
   "metadata": {},
   "outputs": [
    {
     "data": {
      "text/plain": [
       "(39.205382746648176, 68.89461725335181)"
      ]
     },
     "execution_count": 6,
     "metadata": {},
     "output_type": "execute_result"
    }
   ],
   "source": [
    "#Calculate 95% Confidence Interval around the mean by using scipy.stats:\n",
    "stats.t.interval(alpha=0.95,              #confidence level\n",
    "                 df=np.size(grades)-1,    #degrees of freedom\n",
    "                 loc=np.mean(grades),     #sample mean\n",
    "                 scale=stats.sem(grades)  #standard error of the mean\n",
    ")"
   ]
  }
 ],
 "metadata": {
  "kernelspec": {
   "display_name": "Python 3 (ipykernel)",
   "language": "python",
   "name": "python3"
  },
  "language_info": {
   "codemirror_mode": {
    "name": "ipython",
    "version": 3
   },
   "file_extension": ".py",
   "mimetype": "text/x-python",
   "name": "python",
   "nbconvert_exporter": "python",
   "pygments_lexer": "ipython3",
   "version": "3.9.7"
  },
  "toc": {
   "base_numbering": 1,
   "nav_menu": {},
   "number_sections": true,
   "sideBar": true,
   "skip_h1_title": false,
   "title_cell": "Table of Contents",
   "title_sidebar": "Contents",
   "toc_cell": false,
   "toc_position": {},
   "toc_section_display": true,
   "toc_window_display": false
  }
 },
 "nbformat": 4,
 "nbformat_minor": 5
}
